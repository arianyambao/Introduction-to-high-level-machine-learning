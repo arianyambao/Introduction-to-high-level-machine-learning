{
 "cells": [
  {
   "cell_type": "markdown",
   "metadata": {},
   "source": [
    "# Basic classification model\n"
   ]
  },
  {
   "cell_type": "markdown",
   "metadata": {},
   "source": [
    "There are different kinds of Machine Learning (ML) algorithms, and the most common two types of these algorithms are in called; **Supervised**, and **Unsupervised** Machine Learning. \n",
    "\n",
    "And the majority of practical use of ML are in the category of Supervised ML. According to Mr. Brownlee, \"It is called supervised learning because the process of an algorithm learning from the training dataset can be thought of as a teacher supervising the learning process. We know the correct answers, the algorithm iteratively makes predictions on the training data and is corrected by the teacher. Learning stops when the algorithm achieves an acceptable level of performance.\"\n",
    "\n",
    "Click [Supervised and Unsupervised Machine Learning Algorithms](https://machinelearningmastery.com/supervised-and-unsupervised-machine-learning-algorithms/), to learn more about it."
   ]
  },
  {
   "cell_type": "markdown",
   "metadata": {},
   "source": [
    "**Classification** is a part of supervised learning.\n",
    "\n",
    "What **classification** does is it produces an output from the given inputs from the dataset and tries to label or predict an output on newer given inputs basing from the past data it learned. \n",
    "\n",
    "One famous example and probably the most used for this model is the \"ham\" or \"spam\" email classification as the machine learns from the existing data and labels the new incoming ones as \"ham\" which is a 'legit' email v.s \"spam\" emails. It was done by initially collecting spam emails and labeling each of it as \"spam\" and the model would generate a pattern basing from the structure of the email so that it can make it easy to classify whether an incoming email is a \"spam\" or not."
   ]
  },
  {
   "cell_type": "markdown",
   "metadata": {},
   "source": [
    "In this tutorial we will discuss about a basic classification model being used by everyone who studies or even use machine learning. \n",
    "\n",
    "There are a lot of classification algorithms being used by many but as for the beginners here's one (1) of those that are used on their square one journey towards machine learning.\n",
    "\n",
    "At the end of this tutorial we will be testing our models. You will learn a basic hands on with scikit learn, classifaction models and will have a basic scratch on Machine Learning. Have fun and enjoy!"
   ]
  },
  {
   "cell_type": "markdown",
   "metadata": {},
   "source": [
    "# What dataset we'll be using\n",
    "In this tutorial we will be using the [iris](https://en.wikipedia.org/wiki/Iris_flower_data_set), it is a famous dataset that is best for beginning practice, this dataset is already given to us when we install `scikitlearn`.\n",
    "\n",
    "By using the classifaction model we will be making, we will see on how well the model can predict what flower type our new inputs will be basing on its characteristics (Sepal Length, Sepal Width, Petal Length and Petal Width).\n",
    "\n",
    "# Importing the dataset and the packages we will be needing"
   ]
  },
  {
   "cell_type": "code",
   "execution_count": 1,
   "metadata": {
    "collapsed": true
   },
   "outputs": [],
   "source": [
    "# import numpy\n",
    "\n",
    "import numpy as np\n",
    "# import the iris dataset and save it\n",
    "\n",
    "from sklearn import datasets\n",
    "# import the module for spliiting training sets and test sets\n",
    "\n",
    "from sklearn.model_selection import train_test_split\n",
    "\n",
    "iris = datasets.load_iris()"
   ]
  },
  {
   "cell_type": "markdown",
   "metadata": {},
   "source": [
    "# Slicing the dataset for X(inputs) and y(labels)\n",
    "The very basic explanation for the slicing is all the values to be used in predicting a new input are coming from all the existing input values that are stored in a variable this time it is `X` and all our labels or target basing from `X` is stored in the `y`. for every `X` there is an equivalent value in `y`.\n",
    "\n",
    "Our `X` and `y` in this dataset will have a shape of 150.\n",
    "\n",
    "Now we will also slice it randomly to have our training set and test sets depending on the train size you will set, these are relevant to avoid biased data, and to really determine whether our model is doing fine or not. These will be saved to train and test variables using scikitlearn's `train_test_split()`"
   ]
  },
  {
   "cell_type": "code",
   "execution_count": 2,
   "metadata": {},
   "outputs": [
    {
     "name": "stderr",
     "output_type": "stream",
     "text": [
      "C:\\Users\\Arian\\Anaconda3\\lib\\site-packages\\sklearn\\model_selection\\_split.py:2026: FutureWarning: From version 0.21, test_size will always complement train_size unless both are specified.\n",
      "  FutureWarning)\n"
     ]
    }
   ],
   "source": [
    "# slicing the dataset to our Xs and ys.\n",
    "X, y = iris.data, iris.target\n",
    "X_train, X_test, y_train, y_test = train_test_split(X, y, train_size=.7, shuffle='true') # the remaining 30% will be our test sets\n",
    "\n",
    "#also, ignore the warning"
   ]
  },
  {
   "cell_type": "markdown",
   "metadata": {},
   "source": [
    "# Visualize X_train and y_train"
   ]
  },
  {
   "cell_type": "code",
   "execution_count": 3,
   "metadata": {
    "scrolled": true
   },
   "outputs": [
    {
     "name": "stdout",
     "output_type": "stream",
     "text": [
      "[[ 6.4  2.9  4.3  1.3]\n",
      " [ 5.8  2.8  5.1  2.4]\n",
      " [ 5.   2.   3.5  1. ]\n",
      " [ 6.7  2.5  5.8  1.8]\n",
      " [ 5.1  3.8  1.5  0.3]\n",
      " [ 5.5  2.4  3.7  1. ]\n",
      " [ 7.7  2.8  6.7  2. ]\n",
      " [ 5.5  2.6  4.4  1.2]\n",
      " [ 5.5  3.5  1.3  0.2]\n",
      " [ 5.7  2.6  3.5  1. ]\n",
      " [ 6.7  3.   5.   1.7]\n",
      " [ 4.5  2.3  1.3  0.3]\n",
      " [ 6.5  3.2  5.1  2. ]\n",
      " [ 6.9  3.1  5.1  2.3]\n",
      " [ 5.6  3.   4.5  1.5]\n",
      " [ 6.1  2.8  4.   1.3]\n",
      " [ 7.2  3.6  6.1  2.5]\n",
      " [ 7.2  3.2  6.   1.8]\n",
      " [ 6.   2.7  5.1  1.6]\n",
      " [ 5.5  4.2  1.4  0.2]\n",
      " [ 6.4  2.8  5.6  2.2]\n",
      " [ 6.5  3.   5.2  2. ]\n",
      " [ 6.1  2.8  4.7  1.2]\n",
      " [ 6.3  3.4  5.6  2.4]\n",
      " [ 4.6  3.1  1.5  0.2]\n",
      " [ 4.9  2.5  4.5  1.7]\n",
      " [ 5.4  3.   4.5  1.5]\n",
      " [ 6.7  3.3  5.7  2.5]\n",
      " [ 6.7  3.3  5.7  2.1]\n",
      " [ 6.9  3.1  5.4  2.1]\n",
      " [ 4.4  3.2  1.3  0.2]\n",
      " [ 6.4  3.2  5.3  2.3]\n",
      " [ 4.8  3.   1.4  0.1]\n",
      " [ 6.4  3.1  5.5  1.8]\n",
      " [ 5.2  3.4  1.4  0.2]\n",
      " [ 4.8  3.4  1.6  0.2]\n",
      " [ 5.2  3.5  1.5  0.2]\n",
      " [ 5.1  3.8  1.6  0.2]\n",
      " [ 6.   2.2  5.   1.5]\n",
      " [ 6.5  3.   5.8  2.2]\n",
      " [ 5.8  2.7  5.1  1.9]\n",
      " [ 5.1  3.5  1.4  0.2]\n",
      " [ 6.1  3.   4.9  1.8]\n",
      " [ 6.8  3.2  5.9  2.3]\n",
      " [ 5.5  2.4  3.8  1.1]\n",
      " [ 6.3  3.3  6.   2.5]\n",
      " [ 5.   3.4  1.6  0.4]\n",
      " [ 6.3  3.3  4.7  1.6]\n",
      " [ 6.3  2.8  5.1  1.5]\n",
      " [ 5.1  3.3  1.7  0.5]\n",
      " [ 6.3  2.3  4.4  1.3]\n",
      " [ 5.6  2.5  3.9  1.1]\n",
      " [ 6.5  2.8  4.6  1.5]\n",
      " [ 5.7  2.5  5.   2. ]\n",
      " [ 6.7  3.1  4.4  1.4]\n",
      " [ 7.   3.2  4.7  1.4]\n",
      " [ 5.2  4.1  1.5  0.1]\n",
      " [ 6.4  2.8  5.6  2.1]\n",
      " [ 4.7  3.2  1.3  0.2]\n",
      " [ 5.6  3.   4.1  1.3]\n",
      " [ 7.2  3.   5.8  1.6]\n",
      " [ 5.6  2.8  4.9  2. ]\n",
      " [ 7.6  3.   6.6  2.1]\n",
      " [ 5.1  3.5  1.4  0.3]\n",
      " [ 6.8  2.8  4.8  1.4]\n",
      " [ 6.9  3.2  5.7  2.3]\n",
      " [ 5.3  3.7  1.5  0.2]\n",
      " [ 5.4  3.4  1.7  0.2]\n",
      " [ 6.6  3.   4.4  1.4]\n",
      " [ 6.5  3.   5.5  1.8]\n",
      " [ 5.8  2.7  4.1  1. ]\n",
      " [ 5.8  2.7  3.9  1.2]\n",
      " [ 5.   3.3  1.4  0.2]\n",
      " [ 7.3  2.9  6.3  1.8]\n",
      " [ 7.7  3.8  6.7  2.2]\n",
      " [ 5.   3.2  1.2  0.2]\n",
      " [ 5.   3.4  1.5  0.2]\n",
      " [ 5.7  4.4  1.5  0.4]\n",
      " [ 6.   2.9  4.5  1.5]\n",
      " [ 5.   3.6  1.4  0.2]\n",
      " [ 4.8  3.   1.4  0.3]\n",
      " [ 6.3  2.9  5.6  1.8]\n",
      " [ 5.   3.5  1.3  0.3]\n",
      " [ 5.9  3.   5.1  1.8]\n",
      " [ 5.1  2.5  3.   1.1]\n",
      " [ 6.8  3.   5.5  2.1]\n",
      " [ 5.1  3.4  1.5  0.2]\n",
      " [ 5.9  3.2  4.8  1.8]\n",
      " [ 7.1  3.   5.9  2.1]\n",
      " [ 5.7  2.8  4.5  1.3]\n",
      " [ 5.8  4.   1.2  0.2]\n",
      " [ 6.7  3.1  4.7  1.5]\n",
      " [ 5.6  2.7  4.2  1.3]\n",
      " [ 5.8  2.7  5.1  1.9]\n",
      " [ 5.4  3.9  1.7  0.4]\n",
      " [ 4.4  2.9  1.4  0.2]\n",
      " [ 6.   2.2  4.   1. ]\n",
      " [ 5.   2.3  3.3  1. ]\n",
      " [ 5.4  3.4  1.5  0.4]\n",
      " [ 6.4  2.7  5.3  1.9]\n",
      " [ 6.4  3.2  4.5  1.5]\n",
      " [ 4.9  3.1  1.5  0.1]\n",
      " [ 6.   3.   4.8  1.8]\n",
      " [ 5.9  3.   4.2  1.5]\n",
      " [ 6.   3.4  4.5  1.6]]\n"
     ]
    }
   ],
   "source": [
    "print(X_train)"
   ]
  },
  {
   "cell_type": "code",
   "execution_count": 4,
   "metadata": {},
   "outputs": [
    {
     "name": "stdout",
     "output_type": "stream",
     "text": [
      "[1 2 1 2 0 1 2 1 0 1 1 0 2 2 1 1 2 2 1 0 2 2 1 2 0 2 1 2 2 2 0 2 0 2 0 0 0\n",
      " 0 2 2 2 0 2 2 1 2 0 1 2 0 1 1 1 2 1 1 0 2 0 1 2 2 2 0 1 2 0 0 1 2 1 1 0 2\n",
      " 2 0 0 0 1 0 0 2 0 2 1 2 0 1 2 1 0 1 1 2 0 0 1 1 0 2 1 0 2 1 1]\n"
     ]
    }
   ],
   "source": [
    "print(y_train)"
   ]
  },
  {
   "cell_type": "markdown",
   "metadata": {},
   "source": [
    "# K-Nearest Neighbours"
   ]
  },
  {
   "cell_type": "markdown",
   "metadata": {},
   "source": [
    "[K-Nearest Neighbour](https://brilliant.org/wiki/k-nearest-neighbors/) or **KNN** is a very simple and effective machine learning algorithm that sorts an input by using its `k` nearest neighbours. Scikit learn already provided a package for **KNN**\n",
    "\n",
    "`k` - being a parameter (i.e. k=1, k=2, or k=n)"
   ]
  },
  {
   "cell_type": "markdown",
   "metadata": {},
   "source": [
    "# Importing the package we will be needing and making our `k` a parameter"
   ]
  },
  {
   "cell_type": "code",
   "execution_count": 5,
   "metadata": {
    "collapsed": true
   },
   "outputs": [],
   "source": [
    "# import scikit learn's KNN\n",
    "from sklearn.neighbors import KNeighborsClassifier\n",
    "\n",
    "# making k a parameter where in it is the number of neighbors, i'll make 15 in this example, feel free to change it\n",
    "k = 15"
   ]
  },
  {
   "cell_type": "markdown",
   "metadata": {},
   "source": [
    "# Creating our KNN model"
   ]
  },
  {
   "cell_type": "code",
   "execution_count": 6,
   "metadata": {
    "collapsed": true
   },
   "outputs": [],
   "source": [
    "# initializing our KNN model\n",
    "neigh = KNeighborsClassifier(n_neighbors=k)"
   ]
  },
  {
   "cell_type": "markdown",
   "metadata": {},
   "source": [
    "# Fitting our all our X and y to the model\n",
    "By fitting our training sets we are telling our model that here are all the inputs (X) and its corresponding label (y)."
   ]
  },
  {
   "cell_type": "code",
   "execution_count": 7,
   "metadata": {},
   "outputs": [
    {
     "data": {
      "text/plain": [
       "KNeighborsClassifier(algorithm='auto', leaf_size=30, metric='minkowski',\n",
       "           metric_params=None, n_jobs=1, n_neighbors=15, p=2,\n",
       "           weights='uniform')"
      ]
     },
     "execution_count": 7,
     "metadata": {},
     "output_type": "execute_result"
    }
   ],
   "source": [
    "neigh.fit(X_train, y_train)"
   ]
  },
  {
   "cell_type": "markdown",
   "metadata": {},
   "source": [
    "# We will now test its accuracy \n",
    "It is necessary to see the accuracy when creating a specific model for your problem, that way you can figure out if there are problems concerning the on the data you are training with. By then you will know if you still need adjustments or if the model is `just fine` or okay. Remember there are problems concerning [overfitting and underfitting](https://www.lasseschultebraucks.com/overfitting-underfitting-ml/).\n",
    "\n",
    "Note: The testing of accuracy will be performed on the remaining test sets of the data. These test sets are unseen by the model and this is how we can tell if it really knows how to predict it correctly."
   ]
  },
  {
   "cell_type": "code",
   "execution_count": 8,
   "metadata": {},
   "outputs": [
    {
     "data": {
      "text/plain": [
       "0.97333333333333338"
      ]
     },
     "execution_count": 8,
     "metadata": {},
     "output_type": "execute_result"
    }
   ],
   "source": [
    "neigh.score(X, y)"
   ]
  },
  {
   "cell_type": "markdown",
   "metadata": {},
   "source": [
    "our model scored over 96% and that is good for this model since the dataset is small and simple. "
   ]
  },
  {
   "cell_type": "markdown",
   "metadata": {},
   "source": [
    "# Actual testing if our model is working and predicting correctly\n",
    "**0 = Setosa**, **1 = Versicolour**, **2 = Virginica**\n",
    "\n",
    "**Remember this table**\n",
    "\n",
    "| Type | Sepal Length | Sepal Width | Petal Length | Petal Width | \n",
    "|-------|-------|----|----|----|\n",
    "| Setosa | 4.3 - 5.5 | 2.3 - 4.4 | 1.0 - 1.9 | 0.1 - 0.6 |\n",
    "| Versicolour | 5.0 - 7.0 | 2.0 - 3.4 | 3.0 - 5.1 | 1.0 - 1.7 |\n",
    "| Virginica | 4.9 - 7.7 | 2.2 - 3.8 | 4.1 - 6.9 | 1.4 - 2.5 |"
   ]
  },
  {
   "cell_type": "markdown",
   "metadata": {},
   "source": [
    "# Create a list that will append depending on the value it will generate. \n",
    "See the original values and appended values for reference"
   ]
  },
  {
   "cell_type": "code",
   "execution_count": 9,
   "metadata": {},
   "outputs": [
    {
     "name": "stdout",
     "output_type": "stream",
     "text": [
      "[2 1 1 2 0 0 1 2 0 1 2 0 1 1 1 1 1 2 1 2 2 0 2 0 0 0 0 0 2 1 0 2 0 0 1 0 1\n",
      " 1 2 0 0 0 1 2 0]\n",
      "['Virginica', 'Versicolour', 'Versicolour', 'Virginica', 'Setosa', 'Setosa', 'Versicolour', 'Virginica', 'Setosa', 'Versicolour', 'Virginica', 'Setosa', 'Versicolour', 'Versicolour', 'Versicolour', 'Versicolour', 'Versicolour', 'Virginica', 'Versicolour', 'Virginica', 'Virginica', 'Setosa', 'Virginica', 'Setosa', 'Setosa', 'Setosa', 'Setosa', 'Setosa', 'Virginica', 'Versicolour', 'Setosa', 'Virginica', 'Setosa', 'Setosa', 'Versicolour', 'Setosa', 'Versicolour', 'Versicolour', 'Virginica', 'Setosa', 'Setosa', 'Setosa', 'Versicolour', 'Virginica', 'Setosa']\n"
     ]
    }
   ],
   "source": [
    "flower = []\n",
    "\n",
    "for index in neigh.predict(X_test):\n",
    "    if index==0:\n",
    "        flower.append('Setosa')\n",
    "        \n",
    "    elif index==1:\n",
    "        flower.append('Versicolour')\n",
    "        \n",
    "    elif index==2:\n",
    "        flower.append('Virginica')\n",
    "        \n",
    "print(neigh.predict(X_test))        \n",
    "print(flower)"
   ]
  },
  {
   "cell_type": "markdown",
   "metadata": {},
   "source": [
    "# To check if predictions are correct check if the labels for X_test and the prediction is correct"
   ]
  },
  {
   "cell_type": "code",
   "execution_count": 10,
   "metadata": {},
   "outputs": [
    {
     "name": "stdout",
     "output_type": "stream",
     "text": [
      "Data: [ 6.7  3.1  5.6  2.4], Prediction: Virginica\n",
      "Data: [ 5.7  2.8  4.1  1.3], Prediction: Versicolour\n",
      "Data: [ 6.6  2.9  4.6  1.3], Prediction: Versicolour\n",
      "Data: [ 6.3  2.5  5.   1.9], Prediction: Virginica\n",
      "Data: [ 4.9  3.1  1.5  0.1], Prediction: Setosa\n",
      "Data: [ 5.1  3.7  1.5  0.4], Prediction: Setosa\n",
      "Data: [ 5.5  2.5  4.   1.3], Prediction: Versicolour\n",
      "Data: [ 6.2  2.8  4.8  1.8], Prediction: Virginica\n",
      "Data: [ 4.7  3.2  1.6  0.2], Prediction: Setosa\n",
      "Data: [ 5.5  2.3  4.   1.3], Prediction: Versicolour\n",
      "Data: [ 6.7  3.   5.2  2.3], Prediction: Virginica\n",
      "Data: [ 5.   3.5  1.6  0.6], Prediction: Setosa\n",
      "Data: [ 6.1  3.   4.6  1.4], Prediction: Versicolour\n",
      "Data: [ 6.2  2.2  4.5  1.5], Prediction: Versicolour\n",
      "Data: [ 5.7  3.   4.2  1.2], Prediction: Versicolour\n",
      "Data: [ 5.8  2.6  4.   1.2], Prediction: Versicolour\n",
      "Data: [ 5.6  2.9  3.6  1.3], Prediction: Versicolour\n",
      "Data: [ 7.7  3.   6.1  2.3], Prediction: Virginica\n",
      "Data: [ 4.9  2.4  3.3  1. ], Prediction: Versicolour\n",
      "Data: [ 6.1  2.6  5.6  1.4], Prediction: Virginica\n",
      "Data: [ 7.7  2.6  6.9  2.3], Prediction: Virginica\n",
      "Data: [ 5.7  3.8  1.7  0.3], Prediction: Setosa\n",
      "Data: [ 7.4  2.8  6.1  1.9], Prediction: Virginica\n",
      "Data: [ 4.3  3.   1.1  0.1], Prediction: Setosa\n",
      "Data: [ 4.8  3.1  1.6  0.2], Prediction: Setosa\n",
      "Data: [ 5.4  3.9  1.3  0.4], Prediction: Setosa\n",
      "Data: [ 4.6  3.4  1.4  0.3], Prediction: Setosa\n",
      "Data: [ 4.9  3.   1.4  0.2], Prediction: Setosa\n",
      "Data: [ 6.3  2.7  4.9  1.8], Prediction: Virginica\n",
      "Data: [ 6.1  2.9  4.7  1.4], Prediction: Versicolour\n",
      "Data: [ 4.8  3.4  1.9  0.2], Prediction: Setosa\n",
      "Data: [ 6.3  2.5  4.9  1.5], Prediction: Virginica\n",
      "Data: [ 5.1  3.8  1.9  0.4], Prediction: Setosa\n",
      "Data: [ 4.6  3.2  1.4  0.2], Prediction: Setosa\n",
      "Data: [ 6.9  3.1  4.9  1.5], Prediction: Versicolour\n",
      "Data: [ 4.9  3.1  1.5  0.1], Prediction: Setosa\n",
      "Data: [ 6.2  2.9  4.3  1.3], Prediction: Versicolour\n",
      "Data: [ 5.2  2.7  3.9  1.4], Prediction: Versicolour\n",
      "Data: [ 7.9  3.8  6.4  2. ], Prediction: Virginica\n",
      "Data: [ 4.6  3.6  1.   0.2], Prediction: Setosa\n",
      "Data: [ 5.   3.   1.6  0.2], Prediction: Setosa\n",
      "Data: [ 4.4  3.   1.3  0.2], Prediction: Setosa\n",
      "Data: [ 5.7  2.9  4.2  1.3], Prediction: Versicolour\n",
      "Data: [ 6.2  3.4  5.4  2.3], Prediction: Virginica\n",
      "Data: [ 5.4  3.7  1.5  0.2], Prediction: Setosa\n"
     ]
    }
   ],
   "source": [
    "# You can use the code below to see the original data and predic as a reference just remove the comment tag\n",
    "# print(X_test, flower)\n",
    "\n",
    "# looping the print and appending the format for better visualization\n",
    "for index in range(X_test.shape[0]):\n",
    "    print(\"Data: {}, Prediction: {}\".format(X_test[index], flower[index]))"
   ]
  },
  {
   "cell_type": "markdown",
   "metadata": {},
   "source": [
    "# Scatterplot Visualization for Iris Dataset\n",
    "### Red = Setosa, Yellow = Versicolor, Gray = Virginica\n",
    "Representing the dataset using the scatter plot from scikit-learn's documentation"
   ]
  },
  {
   "cell_type": "code",
   "execution_count": 11,
   "metadata": {},
   "outputs": [
    {
     "data": {
      "image/png": "[encoded data removed]",
      "text/plain": [
       "<matplotlib.figure.Figure at 0x237d24e54e0>"
      ]
     },
     "metadata": {},
     "output_type": "display_data"
    }
   ],
   "source": [
    "import matplotlib.pyplot as plt\n",
    "\n",
    "x_min, x_max = X[:, 0].min() - .5, X[:, 0].max() + .5\n",
    "y_min, y_max = X[:, 1].min() - .5, X[:, 1].max() + .5\n",
    "\n",
    "plt.figure(2, figsize=(8, 6))\n",
    "plt.clf()\n",
    "\n",
    "# Plot the training points\n",
    "plt.scatter(X[:, 0], X[:, 1], c=y, cmap=plt.cm.Set1,\n",
    "            edgecolor='k')\n",
    "plt.xlabel('Sepal length')\n",
    "plt.ylabel('Sepal width')\n",
    "\n",
    "plt.xlim(x_min, x_max)\n",
    "plt.ylim(y_min, y_max)\n",
    "plt.xticks(())\n",
    "plt.yticks(())\n",
    "\n",
    "\n",
    "plt.show()\n",
    "# Red = Setosa, Yellow = Versicolor, Gray = Virginica"
   ]
  },
  {
   "cell_type": "markdown",
   "metadata": {},
   "source": [
    "# Mathematical explanation for KNN:\n",
    "\n",
    "    This is to understand the algorithm behind KNN that was used in a high-level perspective\n",
    "\n",
    "    What happens during KNN is it finds the values nearest to it, the numbers of values it finds is based from the parameter `k` that was set.\n",
    "\n",
    "    Often times this algorithm is called `lazy learning` because it to go through the complete training data every time it needs to predict."
   ]
  },
  {
   "cell_type": "markdown",
   "metadata": {},
   "source": [
    "### Steps in Solving for KNN\n",
    "    1. Set the parameter\n",
    "    2. Calculate between the training sets and the query distance\n",
    "    3. Sort the distance and determine the NN based on the K-th minimum distannce\n",
    "    4. Gather the category `y` of the nearest neighbors\n",
    "    5. Use simple majority of the category of the nearest neighbors as the prediction value of the query instance\n",
    "\n",
    "### Basing from Revoledu's Example, Imagine the data are tissue products:\n",
    "let **X1 = Acid Durability, X2 = Strength(kg/sq.meter), y = Classification**"
   ]
  },
  {
   "cell_type": "markdown",
   "metadata": {},
   "source": [
    "| (X1) Acid Durability | (X2) Strength | (y) Classification |  \n",
    "|:-------:|:-------:|:----:|:----:|:----:|\n",
    "| 7 | 7 | Bad | \n",
    "| 7 | 4 | Bad |\n",
    "| 3 | 4 | Good |\n",
    "| 1 | 4 | Good| "
   ]
  },
  {
   "cell_type": "markdown",
   "metadata": {},
   "source": [
    "Suppose we want to add a new tissue with the following characteristics: **X1**=3, and **X2**=7 and we want to see its whether it is good or bad.\n",
    "\n",
    "Now our **query distance** will be equivalent to (3,7)\n",
    "\n",
    "#### Begin the steps one (1) and two (2) \n",
    "\n",
    "##### 1. Set the parameter k: Let `k` = 3\n",
    "\n",
    "##### 2. Calculate between the query distance and all training sets. Using the squared distance, the calculation would be faster. In simpler terms; Euclidean Distance function without the square root. But typically, Euclidean is the most used distance function."
   ]
  },
  {
   "cell_type": "markdown",
   "metadata": {},
   "source": [
    "| (X1) Acid Durability | (X2) Strength | Square Distance to Query Distance (3,7) |  \n",
    "|:-------:|:-------:|:----:|:----:|:----:|\n",
    "| 7 | 7 | (7-3)^2 + (7-7)^2 = 16 | \n",
    "| 7 | 4 | (7-3)^2 + (4-7)^2 = 25 |\n",
    "| 3 | 4 | (3-3)^2 + (4-7)^2 = 9 |\n",
    "| 1 | 4 | (1-3)^2 + (4-7)^2 = 13 | "
   ]
  },
  {
   "cell_type": "markdown",
   "metadata": {},
   "source": [
    "##### 3. Sort the distance to nearest `k`-th minimum distance\n",
    "\n",
    "| (X1) Acid Durability | (X2) Strength | Square Distance to Query Distance (3,7) |  Rank Minimum Distance | Included in k = 3?|\n",
    "|:-------:|:-------:|:----:|:----:|:----:|\n",
    "| 7 | 7 | (7-3)^2 + (7-7)^2 = 16 | 3 | Yes |\n",
    "| 7 | 4 | (7-3)^2 + (4-7)^2 = 25 | 4 | No |\n",
    "| 3 | 4 | (3-3)^2 + (4-7)^2 = 9 | 1 | Yes\n",
    "| 1 | 4 | (1-3)^2 + (4-7)^2 = 13 | 2 | Yes\n",
    "\n",
    "\n",
    "**Explanation:** because of `k` being 3 the values after being derived from the squared distance are ranked so let's begin with k which is 3 then 9, 13, 16, 25.\n",
    "\n",
    "    9 was second because after 3 9 was the smallest and nearest to 3, and because k=3 the selection of the nearest points are only upto three (3) points and that is why the 4th in the rank and the farthest which is 25 is not included."
   ]
  },
  {
   "cell_type": "markdown",
   "metadata": {},
   "source": [
    "##### 4. Gather the category `y` of the nearest neighbors, notice that the 2nd row is not included.\n",
    "\n",
    "| (X1) Acid Durability | (X2) Strength | Square Distance to Query Distance (3,7) |  Rank Minimum Distance | Included in k = 3?| (y) Classification |\n",
    "|:-------:|:-------:|:----:|:----:|:----:|:----:|\n",
    "| 7 | 7 | (7-3)^2 + (7-7)^2 = 16 | 3 | Yes | Bad |\n",
    "| 7 | 4 | (7-3)^2 + (4-7)^2 = 25 | 4 | No | - |\n",
    "| 3 | 4 | (3-3)^2 + (4-7)^2 = 9 | 1 | Yes | Good |\n",
    "| 1 | 4 | (1-3)^2 + (4-7)^2 = 13 | 2 | Yes | Good |"
   ]
  },
  {
   "cell_type": "markdown",
   "metadata": {},
   "source": [
    "##### 5. Use simple majority of the category of the nearest neighbors as the prediction value of the query instance\n",
    "\n",
    "    In the table we have 1 bad and 2 that are good, hence 2 > 1. So the new tissue product with the characteristics of (3, 7) is actually a good one."
   ]
  },
  {
   "cell_type": "markdown",
   "metadata": {},
   "source": [
    "# Coding the written example in Python using numpy"
   ]
  },
  {
   "cell_type": "code",
   "execution_count": 12,
   "metadata": {
    "collapsed": true
   },
   "outputs": [],
   "source": [
    "# import numpy\n",
    "import numpy as np\n",
    "\n",
    "# set the values to X1, X2, and y\n",
    "X1 = np.array([7, 7, 3, 1])\n",
    "X2 = np.array([7, 4, 4, 4])\n",
    "y  = np.array(['Bad', 'Bad', 'Good', 'Good'])\n",
    "\n",
    "# setting the new value for X1 and X2\n",
    "n_X1 = np.array([3])\n",
    "n_X2 = np.array([7])\n",
    "\n",
    "# setting the value for k\n",
    "k = 3\n",
    "\n",
    "# setting a list for the rank\n",
    "rank = []\n"
   ]
  },
  {
   "cell_type": "markdown",
   "metadata": {},
   "source": [
    "# Writing the KNN algorithm"
   ]
  },
  {
   "cell_type": "code",
   "execution_count": 13,
   "metadata": {},
   "outputs": [
    {
     "name": "stdout",
     "output_type": "stream",
     "text": [
      "['Good', 'Good', 'Bad']\n"
     ]
    }
   ],
   "source": [
    "# iterating through indices\n",
    "for index in range(X1.shape[0]):\n",
    "    rank.append(np.sum((X1[index]-n_X1)**2 + (X2[index]-n_X2)**2))\n",
    "\n",
    "# saving our sorted rank\n",
    "new_rank = sorted(rank)\n",
    "\n",
    "# initializing a variable for our new indices\n",
    "indices = []\n",
    "\n",
    "# initializing variable for saving the list of classifications\n",
    "classification = []\n",
    "\n",
    "# initializing a counter for the loop in rank k which is 3\n",
    "counter = 0\n",
    "\n",
    "# the actual loop\n",
    "while counter < k:\n",
    "    for index in range(len(rank)):\n",
    "        if new_rank[counter] == rank[index]:\n",
    "            indices.append(index)\n",
    "    counter+=1\n",
    "\n",
    "# appending the classification to list to see the numbers of Good v.s Bad\n",
    "for count in range(k):\n",
    "    classification.append(y[indices[count]])\n",
    "    \n",
    "# printing the list\n",
    "print (classification)"
   ]
  },
  {
   "cell_type": "markdown",
   "metadata": {},
   "source": [
    "# Finally we can see if the output is good or bad"
   ]
  },
  {
   "cell_type": "code",
   "execution_count": 14,
   "metadata": {},
   "outputs": [
    {
     "name": "stdout",
     "output_type": "stream",
     "text": [
      "The new item is: Good\n"
     ]
    }
   ],
   "source": [
    "# import counter from python's collections package.\n",
    "from collections import Counter\n",
    "\n",
    "highest = Counter(classification)\n",
    "\n",
    "# getting the most common word in the list\n",
    "print(\"The new item is: {}\".format((highest).most_common(1)[0][0]))\n",
    "\n",
    "\n"
   ]
  },
  {
   "cell_type": "markdown",
   "metadata": {},
   "source": [
    "# Congratulations now you know how to Code it and understand its mathematics\n",
    "\n",
    "### Just remember The Pros and Cons of KNN.\n",
    "* **Pros:** \n",
    "  * Simple to implement\n",
    "  * Flexible to feature / distance choices \n",
    "  * Naturally handles multi-class cases\n",
    "  * Can do well in practice with enough representative data\n",
    "\n",
    "* **Cons:**\n",
    "  * Large search problem to find nearest neighbours\n",
    "  * Storage of data\n",
    "  * Must know we have a meaningful distance function\n",
    "  \n",
    "### Have fun and enjoy Machine Learning! :)"
   ]
  },
  {
   "cell_type": "markdown",
   "metadata": {},
   "source": [
    "# References\n",
    "1. Scikit-learn, The Iris Dataset, Retrieved February 1, 2018, from http://scikit-learn.org/stable/auto_examples/datasets/plot_iris_dataset.html\n",
    "2. Akshay Padmanabha and Christopher Williams, K-Nearest Neighbors, Retrieved February 1, 2018, from https://brilliant.org/wiki/k-nearest-neighbors/\n",
    "3. Lasse Schultebraucks, The Problem of Overfitting/Underfitting in Machine Learning, Retrieved February 1, 2018, from https://www.lasseschultebraucks.com/overfitting-underfitting-ml/\n",
    "4. Revoledu, KNN Numerical Computation, Retrieved February 1, 2018, from http://people.revoledu.com/kardi/tutorial/KNN/KNN_Numerical-example.html\n",
    "5. Michael Ray, Nearest Neighbours Pros and Cons, Retrieved February 1, 2018, from http://www2.cs.man.ac.uk/~raym8/comp37212/main/node264.html\n",
    "6. Jason Brownlee, Supervised and Unsupervised Machine Learning, Retrieved February 4, 2018, from https://machinelearningmastery.com/supervised-and-unsupervised-machine-learning-algorithms/"
   ]
  }
 ],
 "metadata": {
  "kernelspec": {
   "display_name": "Python 3",
   "language": "python",
   "name": "python3"
  },
  "language_info": {
   "codemirror_mode": {
    "name": "ipython",
    "version": 3
   },
   "file_extension": ".py",
   "mimetype": "text/x-python",
   "name": "python",
   "nbconvert_exporter": "python",
   "pygments_lexer": "ipython3",
   "version": "3.6.3"
  }
 },
 "nbformat": 4,
 "nbformat_minor": 2
}
