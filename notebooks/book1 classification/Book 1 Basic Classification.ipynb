{
 "cells": [
  {
   "cell_type": "markdown",
   "metadata": {},
   "source": [
    "# Basic classification model\n"
   ]
  },
  {
   "cell_type": "markdown",
   "metadata": {},
   "source": [
    "**Classification** is a part of supervised learning.\n",
    "\n",
    "What **classification** does is it produces an output from the given inputs and tries to label or predict an output on newer given inputs basing from the past data it learned. \n",
    "\n",
    "One famous example and probably the most popular is the \"ham\" or \"spam\" email verification as the machine learns from the existing data and labels the new incoming ones as \"ham\" which is a 'legit' email v.s \"spam\" emails. "
   ]
  },
  {
   "cell_type": "markdown",
   "metadata": {},
   "source": [
    "In this tutorial we will discuss about basic classification models being used by everyone who studies or even use machine learning. \n",
    "\n",
    "There are a lot of classification algorithms being used by many but as for the beginners here are two (2) of those that are used on their square one journey towards machine learning.\n",
    "\n",
    "At the end of this tutorial we will be testing our models. You will learn a basic hands on with scikit learn, classifaction models and will have a basic scratch on Machine Learning. Have fun and enjoy!"
   ]
  },
  {
   "cell_type": "markdown",
   "metadata": {},
   "source": [
    "# What dataset we'll be using\n",
    "In this tutorial we will be using the [iris](https://en.wikipedia.org/wiki/Iris_flower_data_set), it is a famous dataset that is best for beginning practice, this dataset is already given to us when we install `scikitlearn`.\n",
    "\n",
    "By using the classifaction models we will be making, we will see on how well the model can predict what flower type our new inputs will be basing on its characteristics (Sepal Length, Sepal Width, Petal Length and Petal Width).\n",
    "\n",
    "# Importing the dataset and the packages we will be needing"
   ]
  },
  {
   "cell_type": "code",
   "execution_count": 1,
   "metadata": {},
   "outputs": [],
   "source": [
    "# import numpy\n",
    "\n",
    "import numpy as np\n",
    "# import the iris dataset and save it\n",
    "\n",
    "from sklearn import datasets\n",
    "# import the module for spliiting training sets and test sets\n",
    "\n",
    "from sklearn.model_selection import train_test_split\n",
    "\n",
    "iris = datasets.load_iris()"
   ]
  },
  {
   "cell_type": "markdown",
   "metadata": {},
   "source": [
    "# Slicing the dataset for X(inputs) and y(labels)\n",
    "The very basic explanation for the slicing is all the values to be used in predicting a new input are coming from all the existing input values that are stored in a variable this time it is `X` and all our labels or target basing from `X` is stored in the `y`. for every `X` there is an equivalent value in `y`.\n",
    "\n",
    "Our `X` and `y` in this dataset will have a shape of 150.\n",
    "\n",
    "Now we will also slice it randomly to have our training set and test sets depending on the train size you will set, these are relevant to avoid biased data, and to really determine whether our model is doing fine or not. These will be saved to train and test variables using scikitlearn's `train_test_split()`"
   ]
  },
  {
   "cell_type": "code",
   "execution_count": 2,
   "metadata": {},
   "outputs": [
    {
     "name": "stderr",
     "output_type": "stream",
     "text": [
      "C:\\Users\\Arian\\Anaconda3\\lib\\site-packages\\sklearn\\model_selection\\_split.py:2026: FutureWarning: From version 0.21, test_size will always complement train_size unless both are specified.\n",
      "  FutureWarning)\n"
     ]
    }
   ],
   "source": [
    "# slicing the dataset to our Xs and ys.\n",
    "X, y = iris.data, iris.target\n",
    "X_train, X_test, y_train, y_test = train_test_split(X, y, train_size=.7, shuffle='true') # the remaining 30% will be our test sets\n",
    "\n",
    "#also, ignore the warning"
   ]
  },
  {
   "cell_type": "markdown",
   "metadata": {},
   "source": [
    "# Visualize X_train and y_train"
   ]
  },
  {
   "cell_type": "code",
   "execution_count": 3,
   "metadata": {
    "scrolled": true
   },
   "outputs": [
    {
     "name": "stdout",
     "output_type": "stream",
     "text": [
      "[[ 5.8  2.7  4.1  1. ]\n",
      " [ 5.   3.2  1.2  0.2]\n",
      " [ 5.   2.   3.5  1. ]\n",
      " [ 5.4  3.9  1.7  0.4]\n",
      " [ 5.6  3.   4.1  1.3]\n",
      " [ 5.1  3.8  1.5  0.3]\n",
      " [ 6.4  2.7  5.3  1.9]\n",
      " [ 5.1  3.7  1.5  0.4]\n",
      " [ 6.5  3.   5.8  2.2]\n",
      " [ 5.6  2.5  3.9  1.1]\n",
      " [ 5.4  3.4  1.5  0.4]\n",
      " [ 4.7  3.2  1.3  0.2]\n",
      " [ 5.7  4.4  1.5  0.4]\n",
      " [ 5.1  3.4  1.5  0.2]\n",
      " [ 4.6  3.2  1.4  0.2]\n",
      " [ 4.8  3.4  1.6  0.2]\n",
      " [ 6.3  3.3  6.   2.5]\n",
      " [ 5.2  3.4  1.4  0.2]\n",
      " [ 6.8  2.8  4.8  1.4]\n",
      " [ 6.9  3.1  4.9  1.5]\n",
      " [ 5.2  4.1  1.5  0.1]\n",
      " [ 5.   3.3  1.4  0.2]\n",
      " [ 5.1  3.3  1.7  0.5]\n",
      " [ 6.9  3.1  5.1  2.3]\n",
      " [ 6.7  2.5  5.8  1.8]\n",
      " [ 6.3  2.8  5.1  1.5]\n",
      " [ 6.4  3.2  5.3  2.3]\n",
      " [ 6.   2.2  5.   1.5]\n",
      " [ 4.8  3.   1.4  0.3]\n",
      " [ 5.   3.5  1.3  0.3]\n",
      " [ 5.7  2.8  4.1  1.3]\n",
      " [ 5.   2.3  3.3  1. ]\n",
      " [ 7.7  3.   6.1  2.3]\n",
      " [ 5.4  3.   4.5  1.5]\n",
      " [ 5.4  3.4  1.7  0.2]\n",
      " [ 5.5  3.5  1.3  0.2]\n",
      " [ 6.9  3.2  5.7  2.3]\n",
      " [ 7.7  3.8  6.7  2.2]\n",
      " [ 6.7  3.1  5.6  2.4]\n",
      " [ 5.9  3.   5.1  1.8]\n",
      " [ 6.3  3.3  4.7  1.6]\n",
      " [ 5.7  2.9  4.2  1.3]\n",
      " [ 7.2  3.   5.8  1.6]\n",
      " [ 5.   3.   1.6  0.2]\n",
      " [ 6.2  2.8  4.8  1.8]\n",
      " [ 6.8  3.   5.5  2.1]\n",
      " [ 6.5  2.8  4.6  1.5]\n",
      " [ 7.3  2.9  6.3  1.8]\n",
      " [ 6.1  2.6  5.6  1.4]\n",
      " [ 5.1  3.5  1.4  0.2]\n",
      " [ 6.6  3.   4.4  1.4]\n",
      " [ 6.7  3.   5.   1.7]\n",
      " [ 5.1  3.8  1.9  0.4]\n",
      " [ 5.7  2.5  5.   2. ]\n",
      " [ 6.1  3.   4.9  1.8]\n",
      " [ 7.2  3.6  6.1  2.5]\n",
      " [ 7.2  3.2  6.   1.8]\n",
      " [ 5.2  2.7  3.9  1.4]\n",
      " [ 4.8  3.1  1.6  0.2]\n",
      " [ 6.   2.9  4.5  1.5]\n",
      " [ 6.3  2.5  4.9  1.5]\n",
      " [ 6.1  2.8  4.7  1.2]\n",
      " [ 5.8  4.   1.2  0.2]\n",
      " [ 5.5  2.4  3.8  1.1]\n",
      " [ 5.6  2.8  4.9  2. ]\n",
      " [ 6.   2.2  4.   1. ]\n",
      " [ 5.   3.5  1.6  0.6]\n",
      " [ 4.5  2.3  1.3  0.3]\n",
      " [ 4.9  3.1  1.5  0.1]\n",
      " [ 6.2  2.2  4.5  1.5]\n",
      " [ 4.9  2.5  4.5  1.7]\n",
      " [ 5.4  3.9  1.3  0.4]\n",
      " [ 6.7  3.1  4.4  1.4]\n",
      " [ 6.3  2.9  5.6  1.8]\n",
      " [ 5.8  2.8  5.1  2.4]\n",
      " [ 6.4  2.9  4.3  1.3]\n",
      " [ 5.7  3.   4.2  1.2]\n",
      " [ 7.6  3.   6.6  2.1]\n",
      " [ 7.1  3.   5.9  2.1]\n",
      " [ 5.5  2.5  4.   1.3]\n",
      " [ 5.7  2.8  4.5  1.3]\n",
      " [ 5.3  3.7  1.5  0.2]\n",
      " [ 5.8  2.7  5.1  1.9]\n",
      " [ 6.3  3.4  5.6  2.4]\n",
      " [ 6.8  3.2  5.9  2.3]\n",
      " [ 6.5  3.   5.5  1.8]\n",
      " [ 5.7  3.8  1.7  0.3]\n",
      " [ 7.7  2.6  6.9  2.3]\n",
      " [ 4.9  3.1  1.5  0.1]\n",
      " [ 5.6  2.9  3.6  1.3]\n",
      " [ 6.   2.7  5.1  1.6]\n",
      " [ 5.7  2.6  3.5  1. ]\n",
      " [ 4.7  3.2  1.6  0.2]\n",
      " [ 5.5  2.6  4.4  1.2]\n",
      " [ 5.1  3.8  1.6  0.2]\n",
      " [ 6.7  3.3  5.7  2.1]\n",
      " [ 6.4  3.2  4.5  1.5]\n",
      " [ 4.6  3.1  1.5  0.2]\n",
      " [ 5.6  2.7  4.2  1.3]\n",
      " [ 4.8  3.   1.4  0.1]\n",
      " [ 4.6  3.6  1.   0.2]\n",
      " [ 6.4  3.1  5.5  1.8]\n",
      " [ 5.8  2.7  5.1  1.9]\n",
      " [ 5.8  2.7  3.9  1.2]\n",
      " [ 7.4  2.8  6.1  1.9]]\n"
     ]
    }
   ],
   "source": [
    "print(X_train)"
   ]
  },
  {
   "cell_type": "code",
   "execution_count": 4,
   "metadata": {},
   "outputs": [
    {
     "name": "stdout",
     "output_type": "stream",
     "text": [
      "[1 0 1 0 1 0 2 0 2 1 0 0 0 0 0 0 2 0 1 1 0 0 0 2 2 2 2 2 0 0 1 1 2 1 0 0 2\n",
      " 2 2 2 1 1 2 0 2 2 1 2 2 0 1 1 0 2 2 2 2 1 0 1 1 1 0 1 2 1 0 0 0 1 2 0 1 2\n",
      " 2 1 1 2 2 1 1 0 2 2 2 2 0 2 0 1 1 1 0 1 0 2 1 0 1 0 0 2 2 1 2]\n"
     ]
    }
   ],
   "source": [
    "print(y_train)"
   ]
  },
  {
   "cell_type": "markdown",
   "metadata": {},
   "source": [
    "# K-Nearest Neighbours"
   ]
  },
  {
   "cell_type": "markdown",
   "metadata": {},
   "source": [
    "[K-Nearest Neighbour](https://brilliant.org/wiki/k-nearest-neighbors/) or **KNN** is a very simple and effective machine learning algorithm that sorts an input by using its `k` nearest neighbours. Scikit learn already provided a package for **KNN**\n",
    "\n",
    "`k` - being a parameter (i.e. k=1, k=2, or k=n)"
   ]
  },
  {
   "cell_type": "markdown",
   "metadata": {},
   "source": [
    "# Importing the package we will be needing and making our `k` a parameter"
   ]
  },
  {
   "cell_type": "code",
   "execution_count": 5,
   "metadata": {},
   "outputs": [],
   "source": [
    "# import scikit learn's KNN\n",
    "from sklearn.neighbors import KNeighborsClassifier\n",
    "\n",
    "# making k a parameter where in it is the number of neighbors, i'll make 15 in this example, feel free to change it\n",
    "k = 15"
   ]
  },
  {
   "cell_type": "markdown",
   "metadata": {},
   "source": [
    "# Creating our KNN model"
   ]
  },
  {
   "cell_type": "code",
   "execution_count": 6,
   "metadata": {
    "collapsed": true
   },
   "outputs": [],
   "source": [
    "# initializing our KNN model\n",
    "neigh = KNeighborsClassifier(n_neighbors=k)"
   ]
  },
  {
   "cell_type": "markdown",
   "metadata": {},
   "source": [
    "# Fitting our all our X and y to the model\n",
    "By fitting our training sets we are telling our model that here are all the inputs (X) and its corresponding label (y)."
   ]
  },
  {
   "cell_type": "code",
   "execution_count": 7,
   "metadata": {},
   "outputs": [
    {
     "data": {
      "text/plain": [
       "KNeighborsClassifier(algorithm='auto', leaf_size=30, metric='minkowski',\n",
       "           metric_params=None, n_jobs=1, n_neighbors=15, p=2,\n",
       "           weights='uniform')"
      ]
     },
     "execution_count": 7,
     "metadata": {},
     "output_type": "execute_result"
    }
   ],
   "source": [
    "neigh.fit(X_train, y_train)"
   ]
  },
  {
   "cell_type": "markdown",
   "metadata": {},
   "source": [
    "# We will now test its accuracy \n",
    "It is necessary to see the accuracy when creating a specific model for your problem, that way you can figure out if there are problems concerning the on the data you are training with. By then you will know if you still need adjustments or if the model is `just fine` or okay. Remember there are problems concerning [overfitting and underfitting](https://www.lasseschultebraucks.com/overfitting-underfitting-ml/).\n",
    "\n",
    "Note: The testing of accuracy will be performed on the remaining test sets of the data. These test sets are unseen by the model and this is how we can tell if it really knows how to predict it correctly."
   ]
  },
  {
   "cell_type": "code",
   "execution_count": 8,
   "metadata": {},
   "outputs": [
    {
     "data": {
      "text/plain": [
       "0.96666666666666667"
      ]
     },
     "execution_count": 8,
     "metadata": {},
     "output_type": "execute_result"
    }
   ],
   "source": [
    "neigh.score(X, y)"
   ]
  },
  {
   "cell_type": "markdown",
   "metadata": {},
   "source": [
    "our model scored over 96% and that is good for this model since the dataset is small and simple. "
   ]
  },
  {
   "cell_type": "markdown",
   "metadata": {},
   "source": [
    "# Actual testing if our model is working and predicting correctly\n",
    "**0 = Setosa**, **1 = Versicolour**, **2 = Virginica**\n",
    "\n",
    "**Remember this table**\n",
    "\n",
    "| Type | Sepal Length | Sepal Width | Petal Length | Petal Width | \n",
    "|-------|-------|----|----|----|\n",
    "| Setosa | 4.3 - 5.5 | 2.3 - 4.4 | 1.0 - 1.9 | 0.1 - 0.6 |\n",
    "| Versicolour | 5.0 - 7.0 | 2.0 - 3.4 | 3.0 - 5.1 | 0.1 - 0.6 |\n",
    "| Virginica | 4.9 - 7.7 | 2.2 - 3.8 | 4.1 - 6.9 | 1.4 - 2.5 |"
   ]
  },
  {
   "cell_type": "markdown",
   "metadata": {},
   "source": [
    "# Create a list that will append depending on the value it will generate. \n",
    "See the original values and appended values for reference"
   ]
  },
  {
   "cell_type": "code",
   "execution_count": 9,
   "metadata": {},
   "outputs": [
    {
     "name": "stdout",
     "output_type": "stream",
     "text": [
      "[0 2 1 1 2 1 1 2 2 0 0 1 0 1 1 2 2 2 1 1 2 1 0 2 1 1 0 2 1 0 2 0 0 1 2 0 0\n",
      " 2 1 0 0 1 0 0 2]\n",
      "['Setosa', 'Virginica', 'Versicolour', 'Versicolour', 'Virginica', 'Versicolour', 'Versicolour', 'Virginica', 'Virginica', 'Setosa', 'Setosa', 'Versicolour', 'Setosa', 'Versicolour', 'Versicolour', 'Virginica', 'Virginica', 'Virginica', 'Versicolour', 'Versicolour', 'Virginica', 'Versicolour', 'Setosa', 'Virginica', 'Versicolour', 'Versicolour', 'Setosa', 'Virginica', 'Versicolour', 'Setosa', 'Virginica', 'Setosa', 'Setosa', 'Versicolour', 'Virginica', 'Setosa', 'Setosa', 'Virginica', 'Versicolour', 'Setosa', 'Setosa', 'Versicolour', 'Setosa', 'Setosa', 'Virginica']\n"
     ]
    }
   ],
   "source": [
    "flower = []\n",
    "\n",
    "for index in neigh.predict(X_test):\n",
    "    if index==0:\n",
    "        flower.append('Setosa')\n",
    "        \n",
    "    elif index==1:\n",
    "        flower.append('Versicolour')\n",
    "        \n",
    "    elif index==2:\n",
    "        flower.append('Virginica')\n",
    "        \n",
    "print(neigh.predict(X_test))        \n",
    "print(flower)"
   ]
  },
  {
   "cell_type": "markdown",
   "metadata": {},
   "source": [
    "# To check if predictions are correct check if the labels for X_test and the prediction is correct"
   ]
  },
  {
   "cell_type": "code",
   "execution_count": 10,
   "metadata": {},
   "outputs": [
    {
     "name": "stdout",
     "output_type": "stream",
     "text": [
      "[[ 4.4  2.9  1.4  0.2]\n",
      " [ 6.7  3.3  5.7  2.5]\n",
      " [ 7.   3.2  4.7  1.4]\n",
      " [ 6.3  2.3  4.4  1.3]\n",
      " [ 5.9  3.2  4.8  1.8]\n",
      " [ 5.8  2.6  4.   1.2]\n",
      " [ 4.9  2.4  3.3  1. ]\n",
      " [ 6.7  3.   5.2  2.3]\n",
      " [ 7.9  3.8  6.4  2. ]\n",
      " [ 4.8  3.4  1.9  0.2]\n",
      " [ 5.5  4.2  1.4  0.2]\n",
      " [ 5.1  2.5  3.   1.1]\n",
      " [ 5.   3.4  1.6  0.4]\n",
      " [ 6.2  2.9  4.3  1.3]\n",
      " [ 6.1  2.8  4.   1.3]\n",
      " [ 6.4  2.8  5.6  2.2]\n",
      " [ 7.7  2.8  6.7  2. ]\n",
      " [ 6.5  3.2  5.1  2. ]\n",
      " [ 5.5  2.3  4.   1.3]\n",
      " [ 5.5  2.4  3.7  1. ]\n",
      " [ 6.5  3.   5.2  2. ]\n",
      " [ 6.6  2.9  4.6  1.3]\n",
      " [ 5.2  3.5  1.5  0.2]\n",
      " [ 6.4  2.8  5.6  2.1]\n",
      " [ 6.1  3.   4.6  1.4]\n",
      " [ 5.6  3.   4.5  1.5]\n",
      " [ 4.9  3.   1.4  0.2]\n",
      " [ 6.2  3.4  5.4  2.3]\n",
      " [ 6.7  3.1  4.7  1.5]\n",
      " [ 4.4  3.2  1.3  0.2]\n",
      " [ 6.3  2.5  5.   1.9]\n",
      " [ 5.   3.4  1.5  0.2]\n",
      " [ 4.9  3.1  1.5  0.1]\n",
      " [ 6.   3.4  4.5  1.6]\n",
      " [ 6.   3.   4.8  1.8]\n",
      " [ 4.6  3.4  1.4  0.3]\n",
      " [ 5.1  3.5  1.4  0.3]\n",
      " [ 6.3  2.7  4.9  1.8]\n",
      " [ 5.9  3.   4.2  1.5]\n",
      " [ 5.   3.6  1.4  0.2]\n",
      " [ 5.4  3.7  1.5  0.2]\n",
      " [ 6.1  2.9  4.7  1.4]\n",
      " [ 4.3  3.   1.1  0.1]\n",
      " [ 4.4  3.   1.3  0.2]\n",
      " [ 6.9  3.1  5.4  2.1]] ['Setosa', 'Virginica', 'Versicolour', 'Versicolour', 'Virginica', 'Versicolour', 'Versicolour', 'Virginica', 'Virginica', 'Setosa', 'Setosa', 'Versicolour', 'Setosa', 'Versicolour', 'Versicolour', 'Virginica', 'Virginica', 'Virginica', 'Versicolour', 'Versicolour', 'Virginica', 'Versicolour', 'Setosa', 'Virginica', 'Versicolour', 'Versicolour', 'Setosa', 'Virginica', 'Versicolour', 'Setosa', 'Virginica', 'Setosa', 'Setosa', 'Versicolour', 'Virginica', 'Setosa', 'Setosa', 'Virginica', 'Versicolour', 'Setosa', 'Setosa', 'Versicolour', 'Setosa', 'Setosa', 'Virginica']\n"
     ]
    }
   ],
   "source": [
    "print(X_test, flower)"
   ]
  },
  {
   "cell_type": "markdown",
   "metadata": {},
   "source": [
    "# Mathematical explanations below:"
   ]
  },
  {
   "cell_type": "markdown",
   "metadata": {},
   "source": [
    "# References\n",
    "[Brilliant](https://brilliant.org/wiki/k-nearest-neighbors/)\n",
    "\n",
    "[Lasse Schultebraucks](https://www.lasseschultebraucks.com/overfitting-underfitting-ml/)"
   ]
  },
  {
   "cell_type": "code",
   "execution_count": null,
   "metadata": {
    "collapsed": true
   },
   "outputs": [],
   "source": []
  }
 ],
 "metadata": {
  "kernelspec": {
   "display_name": "Python 3",
   "language": "python",
   "name": "python3"
  },
  "language_info": {
   "codemirror_mode": {
    "name": "ipython",
    "version": 3
   },
   "file_extension": ".py",
   "mimetype": "text/x-python",
   "name": "python",
   "nbconvert_exporter": "python",
   "pygments_lexer": "ipython3",
   "version": "3.6.3"
  }
 },
 "nbformat": 4,
 "nbformat_minor": 2
}
